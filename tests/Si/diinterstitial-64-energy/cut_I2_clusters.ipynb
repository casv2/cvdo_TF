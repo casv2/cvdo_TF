{
 "cells": [
  {
   "cell_type": "code",
   "execution_count": null,
   "metadata": {
    "collapsed": true
   },
   "outputs": [],
   "source": [
    "using PyCall\n",
    "@pyimport quippy"
   ]
  },
  {
   "cell_type": "code",
   "execution_count": null,
   "metadata": {},
   "outputs": [],
   "source": [
    "i2 = quippy.AtomsList(\"Si64_I2_castep_relaxations.xyz\")"
   ]
  },
  {
   "cell_type": "code",
   "execution_count": null,
   "metadata": {},
   "outputs": [],
   "source": [
    "for i=1:length(i2)\n",
    "    i2[i][:set_cutoff](3.0)\n",
    "    i2[i][:calc_connect]()\n",
    "    a = zeros(i2[i][:n],1)\n",
    "\n",
    "    a[:] = 4\n",
    "    for s=3:-1:1\n",
    "        myset = union(i2[i][:bfs_grow_single](66, s, nneighb_only=false)[:int][1,:],i2[i][:bfs_grow_single](65, s, nneighb_only=false)[:int][1,:])\n",
    "        a[myset] = s\n",
    "    end\n",
    "    a[66] = 0\n",
    "    a[65] = 0\n",
    "    \n",
    "    i2[i][:add_property](\"i2_cluster\", a')\n",
    "    #i2[i][:i2_cluster]= a'\n",
    "    \n",
    "    # remove far neighbours\n",
    "    i2[i][:remove_atoms]( find(a .> 2))\n",
    "    \n",
    "    # shift center\n",
    "    i2[i][:pos] += 5.44\n",
    "    i2[i][:map_into_cell]()\n",
    "end"
   ]
  },
  {
   "cell_type": "code",
   "execution_count": null,
   "metadata": {},
   "outputs": [],
   "source": [
    "aw = quippy.AtomsWriter(\"tmp.xyz\")\n",
    "for i=1:length(i2)\n",
    "    aw[:write](i2[i])\n",
    "end\n",
    "aw[:close]()"
   ]
  },
  {
   "cell_type": "code",
   "execution_count": null,
   "metadata": {
    "collapsed": true
   },
   "outputs": [],
   "source": []
  },
  {
   "cell_type": "code",
   "execution_count": null,
   "metadata": {
    "collapsed": true
   },
   "outputs": [],
   "source": []
  }
 ],
 "metadata": {
  "kernelspec": {
   "display_name": "Julia 0.6.0",
   "language": "julia",
   "name": "julia-0.6"
  },
  "language_info": {
   "file_extension": ".jl",
   "mimetype": "application/julia",
   "name": "julia",
   "version": "0.6.0"
  }
 },
 "nbformat": 4,
 "nbformat_minor": 2
}
